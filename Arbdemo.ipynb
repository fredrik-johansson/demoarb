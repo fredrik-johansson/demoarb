{
 "cells": [
  {
   "cell_type": "markdown",
   "metadata": {},
   "source": [
    "# Arb\n",
    "\n",
    "A C library for arbitrary-precision ball arithmetic\n",
    "\n",
    "http://arblib.org/\n",
    "\n",
    "### The painful way (C)\n",
    "\n",
    "    #include \"arb.h\"\n",
    "\n",
    "    int main()\n",
    "    {\n",
    "        arb_t x;\n",
    "        arb_init(x);\n",
    "        arb_const_pi(x, 333);\n",
    "        arb_printn(x, 100, 0);\n",
    "        printf(\"\\n\");\n",
    "        arb_clear(x);\n",
    "    }\n",
    "\n",
    "### Wrappers\n",
    "\n",
    "* SageMath (RealBallField, ComplexBallField)\n",
    "* Nemo.jl (ArbField, AcbField)\n",
    "* Python-FLINT\n",
    "* ... and others"
   ]
  },
  {
   "cell_type": "markdown",
   "metadata": {},
   "source": [
    "## Python-FLINT\n",
    "\n",
    "Very quick installation:\n",
    "\n",
    "    pip install flint-py"
   ]
  },
  {
   "cell_type": "markdown",
   "metadata": {},
   "source": [
    "Usage:"
   ]
  },
  {
   "cell_type": "code",
   "execution_count": 1,
   "metadata": {},
   "outputs": [
    {
     "data": {
      "text/plain": [
       "[1.00000000000000 +/- 3.61e-16]"
      ]
     },
     "execution_count": 1,
     "metadata": {},
     "output_type": "execute_result"
    }
   ],
   "source": [
    "from flint import *\n",
    "\n",
    "arb(\"0.1\") * 10"
   ]
  },
  {
   "cell_type": "code",
   "execution_count": 2,
   "metadata": {},
   "outputs": [
    {
     "name": "stdout",
     "output_type": "stream",
     "text": [
      "[3.141592653589793238462643383279502884197169399375105820974944592307816406286208998628034825342117068 +/- 3.51e-101]\n",
      "[+/- 1.72e-101]\n",
      "[-1.000000000e-90 +/- 6.09e-101]\n"
     ]
    }
   ],
   "source": [
    "ctx.dps = 100\n",
    "x = arb.pi()\n",
    "print(x)\n",
    "print(x.sin())\n",
    "print((x + arb(\"1e-90\")).sin())"
   ]
  },
  {
   "cell_type": "code",
   "execution_count": 3,
   "metadata": {},
   "outputs": [
    {
     "data": {
      "image/png": "[encoded data removed]",
      "text/plain": [
       "<Figure size 432x288 with 1 Axes>"
      ]
     },
     "metadata": {},
     "output_type": "display_data"
    }
   ],
   "source": [
    "%matplotlib inline\n",
    "# We evaluate the Riemann zeta function using Arb and plot it using mpmath\n",
    "from mpmath import plot\n",
    "ctx.dps = 15\n",
    "plot(lambda x: acb(0.5 + 1j*x).zeta(), [0,40])"
   ]
  },
  {
   "cell_type": "markdown",
   "metadata": {},
   "source": [
    "## Example: Hilbert matrices\n",
    "\n",
    "Textbook example of ill-conditioned matrices:\n",
    "\n",
    "$$A_{i,j} = \\frac{1}{i+j+1}$$\n"
   ]
  },
  {
   "cell_type": "code",
   "execution_count": 4,
   "metadata": {},
   "outputs": [
    {
     "name": "stdout",
     "output_type": "stream",
     "text": [
      "[ 1.0000, 0.50000, 0.33333, 0.25000, 0.20000]\n",
      "[0.50000, 0.33333, 0.25000, 0.20000, 0.16667]\n",
      "[0.33333, 0.25000, 0.20000, 0.16667, 0.14286]\n",
      "[0.25000, 0.20000, 0.16667, 0.14286, 0.12500]\n",
      "[0.20000, 0.16667, 0.14286, 0.12500, 0.11111]\n"
     ]
    }
   ],
   "source": [
    "A = arb_mat.hilbert(5,5)\n",
    "\n",
    "print(A.str(5, radius=False))"
   ]
  },
  {
   "cell_type": "code",
   "execution_count": 5,
   "metadata": {},
   "outputs": [
    {
     "name": "stdout",
     "output_type": "stream",
     "text": [
      "[3.74929513e-12 +/- 3.68e-21]\n"
     ]
    }
   ],
   "source": [
    "print(A.det())"
   ]
  },
  {
   "cell_type": "markdown",
   "metadata": {},
   "source": [
    "### Why ball arithmetic might be useful"
   ]
  },
  {
   "cell_type": "code",
   "execution_count": 6,
   "metadata": {},
   "outputs": [
    {
     "name": "stdout",
     "output_type": "stream",
     "text": [
      "-2.1491893717231122e-120\n"
     ]
    }
   ],
   "source": [
    "from scipy.linalg import hilbert, det\n",
    "print(det(hilbert(15)))"
   ]
  },
  {
   "cell_type": "code",
   "execution_count": 7,
   "metadata": {},
   "outputs": [
    {
     "name": "stdout",
     "output_type": "stream",
     "text": [
      "[+/- 1.06e-89]\n"
     ]
    }
   ],
   "source": [
    "print(arb_mat.hilbert(15,15).det())"
   ]
  },
  {
   "cell_type": "markdown",
   "metadata": {},
   "source": [
    "### Automatic precision"
   ]
  },
  {
   "cell_type": "code",
   "execution_count": 8,
   "metadata": {},
   "outputs": [
    {
     "name": "stdout",
     "output_type": "stream",
     "text": [
      "15 [+/- 3.20e-417]\n",
      "30 [+/- 1.69e-767]\n",
      "60 [+/- 3.53e-1575]\n",
      "120 [+/- 3.98e-3186]\n",
      "240 [3.3700336774911741861999225672508298305760992725682801800204310940198298318687928463528636e-5942 +/- 1.77e-6031]\n"
     ]
    }
   ],
   "source": [
    "ctx.dps = 15\n",
    "while 1:\n",
    "    H = arb_mat.hilbert(100,100)\n",
    "    d = H.det()\n",
    "    print(ctx.dps, d)\n",
    "    if d.rel_accuracy_bits() > 53:\n",
    "        break\n",
    "    ctx.dps *= 2\n",
    "\n",
    "ctx.dps = 15"
   ]
  },
  {
   "cell_type": "markdown",
   "metadata": {},
   "source": [
    "### New feature in Arb 2.16: eigenvalues"
   ]
  },
  {
   "cell_type": "code",
   "execution_count": 9,
   "metadata": {},
   "outputs": [
    {
     "data": {
      "text/plain": [
       "[[1.56705069109823 +/- 8.92e-15] + [+/- 5.27e-15]j,\n",
       " [0.2085342186110 +/- 2.01e-14] + [+/- 5.27e-15]j,\n",
       " [3.28792877e-6 +/- 7.64e-15] + [+/- 5.27e-15]j,\n",
       " [0.00030589804015 +/- 6.67e-15] + [+/- 5.27e-15]j,\n",
       " [0.01140749162342 +/- 5.68e-15] + [+/- 5.27e-15]j]"
      ]
     },
     "execution_count": 9,
     "metadata": {},
     "output_type": "execute_result"
    }
   ],
   "source": [
    "arb_mat.hilbert(5,5).eig()"
   ]
  },
  {
   "cell_type": "code",
   "execution_count": 10,
   "metadata": {},
   "outputs": [
    {
     "name": "stdout",
     "output_type": "stream",
     "text": [
      "1.00000000000000*x^5 + ([-1.78730158730159 +/- 4.07e-15])*x^4 + ([0.34759117535903 +/- 3.44e-15])*x^3 + ([-0.00383508350430 +/- 2.74e-15])*x^2 + ([1.15292700e-6 +/- 2.19e-15])*x + ([-3.75e-12 +/- 2.51e-15])\n"
     ]
    },
    {
     "data": {
      "text/plain": [
       "[[+/- 3.78e-5] + [+/- 3.64e-5]j,\n",
       " [0.00031 +/- 7.48e-6] + [+/- 3.01e-6]j,\n",
       " [0.01140749 +/- 8.57e-9] + [+/- 8.89e-9]j,\n",
       " [0.20853422 +/- 3.10e-9] + [+/- 1.82e-9]j,\n",
       " [1.56705069 +/- 5.66e-9] + [+/- 5.37e-9]j]"
      ]
     },
     "execution_count": 10,
     "metadata": {},
     "output_type": "execute_result"
    }
   ],
   "source": [
    "pol = arb_mat.hilbert(5,5).charpoly()\n",
    "print(pol)\n",
    "pol.roots()"
   ]
  },
  {
   "cell_type": "markdown",
   "metadata": {},
   "source": [
    "## Example: numerical integration"
   ]
  },
  {
   "cell_type": "markdown",
   "metadata": {},
   "source": [
    "A function that both mpmath and SciPy have trouble integrating:\n",
    "\n",
    "$$\\int_0^1 \\operatorname{sech}^2(10(x-0.2)) + \\operatorname{sech}^4(100(x-0.4)) + \\operatorname{sech}^6(1000(x-0.6)) \\,\\, dx \\approx 0.210803$$\n",
    "\n",
    "SciPy gives an error estimate of 3e-9 although the actual error is 0.001"
   ]
  },
  {
   "cell_type": "code",
   "execution_count": 11,
   "metadata": {},
   "outputs": [
    {
     "name": "stdout",
     "output_type": "stream",
     "text": [
      "0.209819784443225\n",
      "(0.20973606883387982, 3.0281456740012046e-09)\n"
     ]
    }
   ],
   "source": [
    "from mpmath import quad, sech, plot\n",
    "from scipy.integrate import quad as scipy_quad\n",
    "\n",
    "f = lambda x: sech(10*x-2)**2 + sech(100*x-40)**4 + sech(1000*x-600)**6\n",
    "\n",
    "print(quad(f, [0,1]))\n",
    "print(scipy_quad(f, 0, 1))"
   ]
  },
  {
   "cell_type": "code",
   "execution_count": 12,
   "metadata": {},
   "outputs": [
    {
     "data": {
      "image/png": "[encoded data removed]",
      "text/plain": [
       "<Figure size 432x288 with 1 Axes>"
      ]
     },
     "metadata": {},
     "output_type": "display_data"
    }
   ],
   "source": [
    "plot(f, [0,1])"
   ]
  },
  {
   "cell_type": "markdown",
   "metadata": {},
   "source": [
    "### Calculating the integral with Arb"
   ]
  },
  {
   "cell_type": "code",
   "execution_count": 13,
   "metadata": {},
   "outputs": [],
   "source": [
    "f = lambda x, _: (10*x-2).sech()**2 + (100*x-40).sech()**4 + (1000*x-600).sech()**6"
   ]
  },
  {
   "cell_type": "code",
   "execution_count": 14,
   "metadata": {},
   "outputs": [
    {
     "name": "stdout",
     "output_type": "stream",
     "text": [
      "[0.21080273550055 +/- 4.44e-15]\n"
     ]
    }
   ],
   "source": [
    "ctx.dps = 15\n",
    "print(acb.integral(f, 0, 1))"
   ]
  },
  {
   "cell_type": "code",
   "execution_count": 15,
   "metadata": {},
   "outputs": [
    {
     "name": "stdout",
     "output_type": "stream",
     "text": [
      "[0.210802735500549277375643255705729154360909186436781190347850505878720613128145500205058689261557642 +/- 5.64e-100]\n"
     ]
    }
   ],
   "source": [
    "ctx.dps = 100\n",
    "print(acb.integral(f, 0, 1))"
   ]
  }
 ],
 "metadata": {
  "kernelspec": {
   "display_name": "Python 3",
   "language": "python",
   "name": "python3"
  },
  "language_info": {
   "codemirror_mode": {
    "name": "ipython",
    "version": 3
   },
   "file_extension": ".py",
   "mimetype": "text/x-python",
   "name": "python",
   "nbconvert_exporter": "python",
   "pygments_lexer": "ipython3",
   "version": "3.6.6"
  }
 },
 "nbformat": 4,
 "nbformat_minor": 2
}